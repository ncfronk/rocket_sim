{
 "metadata": {
  "language_info": {
   "codemirror_mode": {
    "name": "ipython",
    "version": 3
   },
   "file_extension": ".py",
   "mimetype": "text/x-python",
   "name": "python",
   "nbconvert_exporter": "python",
   "pygments_lexer": "ipython3",
   "version": "3.8.5-final"
  },
  "orig_nbformat": 2,
  "kernelspec": {
   "name": "python3",
   "display_name": "Python 3"
  }
 },
 "nbformat": 4,
 "nbformat_minor": 2,
 "cells": [
  {
   "source": [
    "import numpy as np\n",
    "\n",
    "#lets try and hit 50 m/s cart\n",
    "#skateboard bearing rpm is 34000 \n",
    "# with skateboard wheel diam is 0.05 to 0.075\n",
    "max_rpm = 34000\n",
    "w_diameter = 0.04\n",
    "max_v = w_diameter*np.pi*max_rpm\n",
    "print(\"max v = \", max_v)\n",
    "\n",
    "\n",
    "#this is my air cannon section\n",
    "m = 2 # cart mass (kg)\n",
    "P0_psi = 120 # chamber pressure in psi\n",
    "P0 = P0_psi*6894.76 # chamber pressure in pascals\n",
    "V0 = 0.0189271 # chamber resevoir volume (m^3)\n",
    "\n",
    "D = 0.0762 # [0.0254/4.0, 0.0254/2.0, 0.0254, 0.0254*2.0] \n",
    "r = D/2 #[element*0.5 for element in D]\n",
    "\n",
    "\n",
    "A = np.pi*np.square(r)# barrel cross sectional area (m^2)\n",
    "L = 1.5 # length of barrel (m)\n",
    "P_atm = 101592 # atmospheric pressur in pascals\n",
    "f = 20*10 #barrel friction N\n",
    "\n",
    "v = np.sqrt((2.0/m)*(P0*V0*np.log(1+A*L/V0)-A*L*P_atm-L*f))\n",
    "print(\"exit velocity = \", v, \" m/s\")\n"
   ],
   "cell_type": "code",
   "metadata": {},
   "execution_count": 6,
   "outputs": [
    {
     "output_type": "stream",
     "name": "stdout",
     "text": [
      "max v =  4272.566008882119\nexit velocity =  63.84729399549963  m/s\n"
     ]
    }
   ]
  },
  {
   "cell_type": "code",
   "execution_count": null,
   "metadata": {},
   "outputs": [],
   "source": []
  }
 ]
}